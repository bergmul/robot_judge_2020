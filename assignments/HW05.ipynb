{
 "cells": [
  {
   "cell_type": "markdown",
   "metadata": {},
   "source": [
    "# HW05: Double ML with XGBoost\n",
    "(due October 27th)\n",
    "\n",
    "By: Ulrich Bergmann\n",
    "\n",
    "- I have a problem with the XGBoost fit below. Please let me know where my mistake lies."
   ]
  },
  {
   "cell_type": "markdown",
   "metadata": {},
   "source": [
    "\n"
   ]
  },
  {
   "cell_type": "code",
   "execution_count": 2,
   "metadata": {},
   "outputs": [],
   "source": [
    "# Load Data (NLSY)\n",
    "import pandas as pd\n",
    "df = pd.read_stata('http://www.stata-press.com/data/r10/nlswork.dta')"
   ]
  },
  {
   "cell_type": "code",
   "execution_count": 3,
   "metadata": {},
   "outputs": [],
   "source": [
    "import numpy as np\n",
    "Y = df['ln_wage']\n",
    "D = df['union']"
   ]
  },
  {
   "cell_type": "code",
   "execution_count": 4,
   "metadata": {},
   "outputs": [
    {
     "name": "stdout",
     "output_type": "stream",
     "text": [
      "<class 'pandas.core.frame.DataFrame'>\n",
      "Int64Index: 28534 entries, 0 to 28533\n",
      "Data columns (total 21 columns):\n",
      " #   Column    Non-Null Count  Dtype  \n",
      "---  ------    --------------  -----  \n",
      " 0   idcode    28534 non-null  int16  \n",
      " 1   year      28534 non-null  int8   \n",
      " 2   birth_yr  28534 non-null  int8   \n",
      " 3   age       28510 non-null  float64\n",
      " 4   race      28534 non-null  int8   \n",
      " 5   msp       28518 non-null  float64\n",
      " 6   nev_mar   28518 non-null  float64\n",
      " 7   grade     28532 non-null  float64\n",
      " 8   collgrad  28534 non-null  int8   \n",
      " 9   not_smsa  28526 non-null  float64\n",
      " 10  c_city    28526 non-null  float64\n",
      " 11  south     28526 non-null  float64\n",
      " 12  ind_code  28193 non-null  float64\n",
      " 13  occ_code  28413 non-null  float64\n",
      " 14  union     19238 non-null  float64\n",
      " 15  wks_ue    22830 non-null  float64\n",
      " 16  ttl_exp   28534 non-null  float32\n",
      " 17  tenure    28101 non-null  float32\n",
      " 18  hours     28467 non-null  float64\n",
      " 19  wks_work  27831 non-null  float64\n",
      " 20  ln_wage   28534 non-null  float32\n",
      "dtypes: float32(3), float64(13), int16(1), int8(4)\n",
      "memory usage: 3.5 MB\n"
     ]
    }
   ],
   "source": [
    "df.describe()\n",
    "df.info()"
   ]
  },
  {
   "cell_type": "code",
   "execution_count": 5,
   "metadata": {},
   "outputs": [],
   "source": [
    "# fill in X with all predictors that are not colliders\n",
    "X = df[['age', 'year', 'race', 'msp', 'nev_mar', 'grade', 'collgrad', 'c_city', 'south', 'wks_ue', 'ttl_exp', 'tenure', 'wks_work' ]]"
   ]
  },
  {
   "cell_type": "code",
   "execution_count": 6,
   "metadata": {},
   "outputs": [],
   "source": [
    "# split into sample A and sample B\n",
    "Ax = X.sample(frac = 0.5)\n",
    "Ay = Y[Ax.index]\n",
    "Ad = D[Ax.index]\n",
    "\n",
    "Bx = X.drop(Ax.index)\n",
    "By = Y.drop(Ax.index)\n",
    "Bd = D.drop(Ax.index)\n",
    "  \n",
    "# Within each sample, make a validation set for xgboost early stopping\n",
    "\n",
    "from sklearn.model_selection import train_test_split \n",
    "Ax_train, Ax_val, Ay_train, Ay_val = train_test_split(Ax, Ay)\n",
    "Bx_train, Bx_val, By_train, By_val = train_test_split(Bx, By)\n",
    "\n",
    "Ad_train = Ad[Ax_train.index]\n",
    "Ad_val = Ad[Ax_val.index]\n",
    "\n",
    "Bd_train = Bd[Bx_train.index]\n",
    "Bd_val = Bd[Bx_val.index]"
   ]
  },
  {
   "cell_type": "markdown",
   "metadata": {},
   "source": [
    "### The fit in the next cell takes forever. I'm not sure if I screwed up the index  in the previous cell?\n",
    "\n",
    "HELP :D\n"
   ]
  },
  {
   "cell_type": "code",
   "execution_count": null,
   "metadata": {},
   "outputs": [],
   "source": [
    "# Step 1. In both samples, use xgboost regressor to predict log wages (outcome Y)\n",
    "# use early stopping.\n",
    "from xgboost import XGBClassifier\n",
    "AY_model = XGBClassifier(eval_set = [Ax_val, Ay_val], early_stopping_rounds=10)\n",
    "AY_model.fit(Ax_train, Ay_train, verbose=True)\n",
    "\n",
    "BY_model = XGBClassifier(eval_set = [Bx_val, By_val], early_stopping_rounds=10)\n",
    "BY_model.fit(Bx_train, By_train, verbose=True)"
   ]
  },
  {
   "cell_type": "code",
   "execution_count": null,
   "metadata": {},
   "outputs": [],
   "source": [
    "# Step 2. In both samples, use xgboost classifier to predict union status (treatment D)\n",
    "# use early stopping.\n",
    "from xgboost import XGBClassifier\n",
    "AD_model = XGBClassifier(eval_set = [Ax_val, Ad_val], early_stopping_rounds=10)\n",
    "AD_model.fit(Ax_train, Ad_train)\n",
    "\n",
    "BD_model = XGBClassifier(eval_set = [Bx_val, Bd_val], early_stopping_rounds=10)\n",
    "BD_model.fit(Bx_train, Bd_train)"
   ]
  },
  {
   "cell_type": "code",
   "execution_count": null,
   "metadata": {},
   "outputs": [],
   "source": [
    "# Step 3. Cross-fitting: Form predictions in other sample.\n",
    "\n",
    "# predict wages in sample A using model trained in sample B:\n",
    "Y_hat_A = BY_model.predict(Ax)\n",
    "\n",
    "# vice versa:\n",
    "Y_hat_B = AY_model.predict(Bx)\n",
    "    \n",
    "# predict union status in sample A using model trained in sample B:\n",
    "D_hat_A = BD_model.predict(Ax)\n",
    "    \n",
    "# vice versa:\n",
    "D_hat_B = AD_model.predict(Bx)\n",
    "    "
   ]
  },
  {
   "cell_type": "code",
   "execution_count": null,
   "metadata": {},
   "outputs": [],
   "source": [
    "# Compute residuals for wages and union status.\n",
    "\n",
    "# residualized wages in samples A and B:\n",
    "Y_tilde_A =  Ay - Y_hat_A\n",
    "Y_tilde_B =  By - Y_hat_B\n",
    "\n",
    "# residualized union status in samples A and B:\n",
    "D_tilde_A =  Ad - D_hat_A\n",
    "D_tilde_B =  Bd - D_hat_B"
   ]
  },
  {
   "cell_type": "code",
   "execution_count": 12,
   "metadata": {},
   "outputs": [
    {
     "ename": "NameError",
     "evalue": "name 'Y_tilde_A' is not defined",
     "output_type": "error",
     "traceback": [
      "\u001b[0;31m---------------------------------------------------------------------------\u001b[0m",
      "\u001b[0;31mNameError\u001b[0m                                 Traceback (most recent call last)",
      "\u001b[0;32m<ipython-input-12-4e912e36cb86>\u001b[0m in \u001b[0;36m<module>\u001b[0;34m\u001b[0m\n\u001b[1;32m      3\u001b[0m \u001b[0;32mimport\u001b[0m \u001b[0mstatsmodels\u001b[0m\u001b[0;34m.\u001b[0m\u001b[0mapi\u001b[0m \u001b[0;32mas\u001b[0m \u001b[0msm\u001b[0m\u001b[0;34m\u001b[0m\u001b[0;34m\u001b[0m\u001b[0m\n\u001b[1;32m      4\u001b[0m \u001b[0;34m\u001b[0m\u001b[0m\n\u001b[0;32m----> 5\u001b[0;31m \u001b[0mmodel_A\u001b[0m \u001b[0;34m=\u001b[0m \u001b[0msm\u001b[0m\u001b[0;34m.\u001b[0m\u001b[0mOLS\u001b[0m\u001b[0;34m(\u001b[0m\u001b[0mY_tilde_A\u001b[0m\u001b[0;34m,\u001b[0m \u001b[0mD_tilde_A\u001b[0m\u001b[0;34m)\u001b[0m\u001b[0;34m\u001b[0m\u001b[0;34m\u001b[0m\u001b[0m\n\u001b[0m\u001b[1;32m      6\u001b[0m \u001b[0mresult_A\u001b[0m \u001b[0;34m=\u001b[0m \u001b[0mmodel\u001b[0m\u001b[0;34m.\u001b[0m\u001b[0mfit\u001b[0m\u001b[0;34m(\u001b[0m\u001b[0mcov_type\u001b[0m\u001b[0;34m=\u001b[0m\u001b[0;34m'HC1'\u001b[0m\u001b[0;34m)\u001b[0m\u001b[0;34m\u001b[0m\u001b[0;34m\u001b[0m\u001b[0m\n\u001b[1;32m      7\u001b[0m \u001b[0mbeta_A\u001b[0m \u001b[0;34m=\u001b[0m \u001b[0mresult\u001b[0m\u001b[0;34m.\u001b[0m\u001b[0mparams\u001b[0m\u001b[0;34m\u001b[0m\u001b[0;34m\u001b[0m\u001b[0m\n",
      "\u001b[0;31mNameError\u001b[0m: name 'Y_tilde_A' is not defined"
     ]
    }
   ],
   "source": [
    "# Step 4. Run OLS regressions and produce DML estimate\n",
    "\n",
    "import statsmodels.api as sm\n",
    "\n",
    "model_A = sm.OLS(Y_tilde_A, D_tilde_A)\n",
    "result_A = model.fit(cov_type='HC1')\n",
    "beta_A = result.params\n",
    "se_A = result.se\n",
    "\n",
    "model_B = sm.OLS(Y_tilde_B, D_tilde_B)\n",
    "result_B = model.fit(cov_type='HC1')\n",
    "beta_B = result.params\n",
    "se_B = result.se\n",
    "\n",
    "beta = .5 * (beta_A + beta_B)\n",
    "se = .5 * (se_A + se_B)\n",
    "\n",
    "print('DML Coeff:',beta)\n",
    "print('DML S.E.:', se)"
   ]
  },
  {
   "cell_type": "code",
   "execution_count": null,
   "metadata": {},
   "outputs": [],
   "source": []
  }
 ],
 "metadata": {
  "kernelspec": {
   "display_name": "Python 3",
   "language": "python",
   "name": "python3"
  },
  "language_info": {
   "codemirror_mode": {
    "name": "ipython",
    "version": 3
   },
   "file_extension": ".py",
   "mimetype": "text/x-python",
   "name": "python",
   "nbconvert_exporter": "python",
   "pygments_lexer": "ipython3",
   "version": "3.7.6"
  }
 },
 "nbformat": 4,
 "nbformat_minor": 4
}
